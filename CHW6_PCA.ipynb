{
  "cells": [
    {
      "cell_type": "markdown",
      "metadata": {
        "id": "rlTwtkXdXNso"
      },
      "source": [
        "#In this problem we aim to implement PCA algorithm from scratch, and then perform a classification task."
      ]
    },
    {
      "cell_type": "markdown",
      "metadata": {
        "id": "ugHZp1g8XqaU"
      },
      "source": [
        "# Import necessary libraries"
      ]
    },
    {
      "cell_type": "code",
      "execution_count": 1,
      "metadata": {
        "id": "bZzt4ARTXCCi"
      },
      "outputs": [],
      "source": [
        "import torch\n",
        "import torch.nn as nn\n",
        "import torch.optim as optim\n",
        "import numpy as np\n",
        "import matplotlib.pyplot as plt\n",
        "from torchvision import datasets, transforms\n",
        "from torch.utils.data import DataLoader"
      ]
    },
    {
      "cell_type": "markdown",
      "metadata": {
        "id": "Mm4URVKlX61m"
      },
      "source": [
        "### Load Fashion MNIST Dataset from pytorch package and extract it as flat array for PCA algorithm."
      ]
    },
    {
      "cell_type": "code",
      "execution_count": 2,
      "metadata": {
        "colab": {
          "base_uri": "https://localhost:8080/"
        },
        "id": "ed6Ji42AX2hC",
        "outputId": "a8dab384-4d7f-46f4-fca1-4194167261c3"
      },
      "outputs": [
        {
          "name": "stdout",
          "output_type": "stream",
          "text": [
            "Downloading http://fashion-mnist.s3-website.eu-central-1.amazonaws.com/train-images-idx3-ubyte.gz\n",
            "Downloading http://fashion-mnist.s3-website.eu-central-1.amazonaws.com/train-images-idx3-ubyte.gz to ./data\\FashionMNIST\\raw\\train-images-idx3-ubyte.gz\n"
          ]
        },
        {
          "name": "stderr",
          "output_type": "stream",
          "text": [
            "100%|██████████| 26.4M/26.4M [00:14<00:00, 1.77MB/s]\n"
          ]
        },
        {
          "name": "stdout",
          "output_type": "stream",
          "text": [
            "Extracting ./data\\FashionMNIST\\raw\\train-images-idx3-ubyte.gz to ./data\\FashionMNIST\\raw\n",
            "\n",
            "Downloading http://fashion-mnist.s3-website.eu-central-1.amazonaws.com/train-labels-idx1-ubyte.gz\n",
            "Downloading http://fashion-mnist.s3-website.eu-central-1.amazonaws.com/train-labels-idx1-ubyte.gz to ./data\\FashionMNIST\\raw\\train-labels-idx1-ubyte.gz\n"
          ]
        },
        {
          "name": "stderr",
          "output_type": "stream",
          "text": [
            "100%|██████████| 29.5k/29.5k [00:00<00:00, 408kB/s]\n"
          ]
        },
        {
          "name": "stdout",
          "output_type": "stream",
          "text": [
            "Extracting ./data\\FashionMNIST\\raw\\train-labels-idx1-ubyte.gz to ./data\\FashionMNIST\\raw\n",
            "\n",
            "Downloading http://fashion-mnist.s3-website.eu-central-1.amazonaws.com/t10k-images-idx3-ubyte.gz\n",
            "Downloading http://fashion-mnist.s3-website.eu-central-1.amazonaws.com/t10k-images-idx3-ubyte.gz to ./data\\FashionMNIST\\raw\\t10k-images-idx3-ubyte.gz\n"
          ]
        },
        {
          "name": "stderr",
          "output_type": "stream",
          "text": [
            "100%|██████████| 4.42M/4.42M [00:02<00:00, 2.13MB/s]\n"
          ]
        },
        {
          "name": "stdout",
          "output_type": "stream",
          "text": [
            "Extracting ./data\\FashionMNIST\\raw\\t10k-images-idx3-ubyte.gz to ./data\\FashionMNIST\\raw\n",
            "\n",
            "Downloading http://fashion-mnist.s3-website.eu-central-1.amazonaws.com/t10k-labels-idx1-ubyte.gz\n",
            "Downloading http://fashion-mnist.s3-website.eu-central-1.amazonaws.com/t10k-labels-idx1-ubyte.gz to ./data\\FashionMNIST\\raw\\t10k-labels-idx1-ubyte.gz\n"
          ]
        },
        {
          "name": "stderr",
          "output_type": "stream",
          "text": [
            "100%|██████████| 5.15k/5.15k [00:00<?, ?B/s]\n"
          ]
        },
        {
          "name": "stdout",
          "output_type": "stream",
          "text": [
            "Extracting ./data\\FashionMNIST\\raw\\t10k-labels-idx1-ubyte.gz to ./data\\FashionMNIST\\raw\n",
            "\n",
            "Train data shape: (60000, 784)\n",
            "Test data shape: (10000, 784)\n"
          ]
        }
      ],
      "source": [
        "#Your code\n",
        "\n",
        "transform = transforms.ToTensor()\n",
        "train_dataset = datasets.FashionMNIST(root=\"./data\", train=True, download=True, transform=transform)\n",
        "test_dataset = datasets.FashionMNIST(root=\"./data\", train=False, download=True, transform=transform)\n",
        "\n",
        "train_loader = torch.utils.data.DataLoader(train_dataset,batch_size=len(train_dataset), shuffle=False)\n",
        "test_loader = torch.utils.data.DataLoader(test_dataset, batch_size=len(test_dataset), shuffle=False)\n",
        "\n",
        "train_data, train_labels = next(iter(train_loader))\n",
        "train_data_flat = train_data.view(train_data.size(0), -1).numpy()\n",
        "train_labels = train_labels.numpy()\n",
        "\n",
        "print(\"Train data shape:\", train_data_flat.shape)\n",
        "\n",
        "test_data, test_labels = next(iter(test_loader))\n",
        "test_data_flat = test_data.view(test_data.size(0), -1).numpy()\n",
        "test_labels = test_labels.numpy()\n",
        "\n",
        "print(\"Test data shape:\", test_data_flat.shape)\n",
        "\n",
        "#Your code"
      ]
    },
    {
      "cell_type": "markdown",
      "metadata": {
        "id": "AlUrjsn0cac3"
      },
      "source": [
        "\n",
        "# Define PCA function from scratch.\n",
        "Your function should take the data and the number of reduced dimensions, and return the data with a reduced number of dimensions.\n",
        "\n",
        "You are only allowed to use NumPy's built-in functions."
      ]
    },
    {
      "cell_type": "code",
      "execution_count": 4,
      "metadata": {
        "id": "vy2Q_GEkcYxE"
      },
      "outputs": [],
      "source": [
        "#Your code\n",
        "\n",
        "def Pca(data, k):\n",
        "    # 1. Centering\n",
        "    data_centered = data - np.mean(data, axis=0)\n",
        "    \n",
        "    # 2. Covariance matrix\n",
        "    cov_matrix = np.cov(data_centered, rowvar=False)\n",
        "    \n",
        "    # 3. eigenvalues and eigenvectors\n",
        "    eigenvalues, eigenvectors = np.linalg.eigh(cov_matrix)\n",
        "    \n",
        "    # 4. sort and choose top k eigenvalues and corresponding eigenvectors\n",
        "    sorted_indices = np.argsort(eigenvalues)[::-1]\n",
        "    top_k_indices = sorted_indices[:k]\n",
        "    top_k_eigenvectors = eigenvectors[:, top_k_indices]\n",
        "    \n",
        "    # 5. Encoding\n",
        "    data_reduced = np.dot(data_centered, top_k_eigenvectors)\n",
        "    \n",
        "    return data_reduced, eigenvalues[sorted_indices]\n",
        "#Your code"
      ]
    },
    {
      "cell_type": "markdown",
      "metadata": {
        "id": "HmnZvkKKetNk"
      },
      "source": [
        "\n",
        "### Plot the explained variance as a function of the number of dimensions."
      ]
    },
    {
      "cell_type": "code",
      "execution_count": 6,
      "metadata": {
        "colab": {
          "base_uri": "https://localhost:8080/",
          "height": 564
        },
        "id": "N3BQJL0YekUa",
        "outputId": "75d891fc-1e96-4bc7-fd0e-c8c982b2376e"
      },
      "outputs": [
        {
          "data": {
            "image/png": "[encoded data removed]",
            "text/plain": [
              "<Figure size 800x500 with 1 Axes>"
            ]
          },
          "metadata": {},
          "output_type": "display_data"
        }
      ],
      "source": [
        "#Your code\n",
        "\n",
        "_, sorted_eigenvalues = Pca(train_data_flat, 1)\n",
        "total_variance = np.sum(sorted_eigenvalues)\n",
        "explained_variance_ratio = sorted_eigenvalues / total_variance\n",
        "cumulative_explained_variance = np.cumsum(explained_variance_ratio)\n",
        "\n",
        "plt.figure(figsize=(8, 5))\n",
        "plt.plot(range(1, len(cumulative_explained_variance) + 1), cumulative_explained_variance, marker='o')\n",
        "plt.title(\"Cumulative Explained Variance vs Number of Principal Components\")\n",
        "plt.xlabel(\"Number of Principal Components\")\n",
        "plt.ylabel(\"Cumulative Explained Variance Ratio\")\n",
        "plt.grid(True)\n",
        "\n",
        "#Your code"
      ]
    },
    {
      "cell_type": "code",
      "execution_count": 12,
      "metadata": {},
      "outputs": [
        {
          "name": "stdout",
          "output_type": "stream",
          "text": [
            "23\n"
          ]
        }
      ],
      "source": [
        "for i, value in enumerate(cumulative_explained_variance):\n",
        "    if value >= 0.8:\n",
        "        print(i)\n",
        "        break"
      ]
    },
    {
      "cell_type": "markdown",
      "metadata": {
        "id": "_BZACrqDkCUC"
      },
      "source": [
        "You can achieve an accuracy higher than 80% with a simple neural network when the number of features is 784. Based on the previous plot, how many features do you think are needed to reach this accuracy?\n",
        "\n",
        "as we see in the plot  and above code approximately we can say 25 first components is enough"
      ]
    },
    {
      "cell_type": "markdown",
      "metadata": {
        "id": "Wqy-aoM9fPmT"
      },
      "source": [
        "# Now we want to use Scikitlearn package for PCA algorithm."
      ]
    },
    {
      "cell_type": "markdown",
      "metadata": {
        "id": "95kyuV11fkj2"
      },
      "source": [
        "## Define a function to reduce the number of dimension using Scikitlearn built-in functions."
      ]
    },
    {
      "cell_type": "code",
      "execution_count": 14,
      "metadata": {
        "id": "h3R6OIEMf_sS"
      },
      "outputs": [],
      "source": [
        "#Your code\n",
        "from sklearn.decomposition import PCA\n",
        "def Pca_SK(data, k):\n",
        "    pca = PCA(n_components=k)\n",
        "    data_reduced = pca.fit_transform(data)\n",
        "    return data_reduced, pca\n",
        "\n",
        "#Your code"
      ]
    },
    {
      "cell_type": "markdown",
      "metadata": {
        "id": "XfEm1RmMgCRF"
      },
      "source": [
        "## Define a neural network model to perform a classification task on the Fashion-MNIST dataset."
      ]
    },
    {
      "cell_type": "code",
      "execution_count": 21,
      "metadata": {
        "id": "JgGI6oUggdjJ"
      },
      "outputs": [
        {
          "name": "stdout",
          "output_type": "stream",
          "text": [
            "Using device: cpu\n"
          ]
        }
      ],
      "source": [
        "#Your code\n",
        "\n",
        "device = torch.device(\"cuda\" if torch.cuda.is_available() else \"cpu\")\n",
        "print(\"Using device:\", device)\n",
        "\n",
        "class SimpleFCNN(nn.Module):\n",
        "    \"\"\"\n",
        "    A simple fully connected feedforward neural network for FashionMNIST.\n",
        "    \"\"\"\n",
        "    def __init__(self, input_dim):\n",
        "        super(SimpleFCNN, self).__init__()\n",
        "        self.fc1 = nn.Linear(input_dim, 256)  # first fully connected layer\n",
        "        self.fc2 = nn.Linear(256, 128)     # second fully connected layer\n",
        "        self.fc3 = nn.Linear(128, 10)      # output layer (10 classes)\n",
        "\n",
        "    def forward(self, x):\n",
        "        # x shape: [batch_size, 1, 28, 28]\n",
        "        # Flatten the image into a 1D vector of size 784\n",
        "        x = x.view(x.size(0), -1)\n",
        "        \n",
        "        # Forward pass\n",
        "        x = torch.relu(self.fc1(x))\n",
        "        x = torch.relu(self.fc2(x))\n",
        "        x = self.fc3(x)\n",
        "        \n",
        "        return x\n",
        "\n",
        "def train_one_epoch(model, dataloader, criterion, optimizer):\n",
        "    model.train()\n",
        "    running_loss = 0.0\n",
        "    for features, labels in dataloader:\n",
        "        features, labels = features.to(device), labels.to(device)\n",
        "        \n",
        "        optimizer.zero_grad()\n",
        "        outputs = model(features)\n",
        "        loss = criterion(outputs, labels)\n",
        "        loss.backward()\n",
        "        optimizer.step()\n",
        "        \n",
        "        running_loss += loss.item() * features.size(0)\n",
        "    epoch_loss = running_loss / len(dataloader.dataset)\n",
        "    return epoch_loss  \n",
        "\n",
        "def evaluate(model, dataloader):\n",
        "    model.eval()\n",
        "    correct = 0\n",
        "    total = 0\n",
        "    with torch.no_grad():\n",
        "        for features, labels in dataloader:\n",
        "            features, labels = features.to(device), labels.to(device)\n",
        "            outputs = model(features)\n",
        "            _, predicted = torch.max(outputs, 1)\n",
        "            total += labels.size(0)\n",
        "            correct += (predicted == labels).sum().item()\n",
        "    return 100.0 * correct / total\n",
        "\n",
        "#Your code"
      ]
    },
    {
      "cell_type": "markdown",
      "metadata": {
        "id": "rmSPZ4kYgmW1"
      },
      "source": [
        "## Perform a classification task and plot the accuracy as a function of the number of features for the following values: 3, 5, 8, 20, 50, 100, 200, 400, and 784."
      ]
    },
    {
      "cell_type": "code",
      "execution_count": 23,
      "metadata": {
        "id": "xwnN1hNppg0p"
      },
      "outputs": [
        {
          "name": "stdout",
          "output_type": "stream",
          "text": [
            "\n",
            "=== Using 3 features ===\n",
            "  Epoch [1/10] | Loss: 1.1014 | Train Acc: 58.70% | Test Acc: 58.30%\n",
            "  Epoch [2/10] | Loss: 0.9686 | Train Acc: 60.50% | Test Acc: 60.43%\n",
            "  Epoch [3/10] | Loss: 0.9363 | Train Acc: 62.16% | Test Acc: 62.21%\n",
            "  Epoch [4/10] | Loss: 0.9155 | Train Acc: 62.84% | Test Acc: 62.87%\n",
            "  Epoch [5/10] | Loss: 0.9019 | Train Acc: 63.09% | Test Acc: 62.95%\n",
            "  Epoch [6/10] | Loss: 0.8919 | Train Acc: 62.54% | Test Acc: 61.95%\n",
            "  Epoch [7/10] | Loss: 0.8848 | Train Acc: 63.71% | Test Acc: 63.49%\n",
            "  Epoch [8/10] | Loss: 0.8791 | Train Acc: 63.88% | Test Acc: 63.31%\n",
            "  Epoch [9/10] | Loss: 0.8757 | Train Acc: 63.76% | Test Acc: 63.49%\n",
            "  Epoch [10/10] | Loss: 0.8727 | Train Acc: 63.03% | Test Acc: 62.57%\n",
            "Final Test Acc with 3 features: 62.57%\n",
            "\n",
            "=== Using 5 features ===\n",
            "  Epoch [1/10] | Loss: 0.9598 | Train Acc: 69.39% | Test Acc: 68.64%\n",
            "  Epoch [2/10] | Loss: 0.7642 | Train Acc: 71.53% | Test Acc: 70.88%\n",
            "  Epoch [3/10] | Loss: 0.7351 | Train Acc: 71.64% | Test Acc: 70.95%\n",
            "  Epoch [4/10] | Loss: 0.7184 | Train Acc: 72.42% | Test Acc: 71.65%\n",
            "  Epoch [5/10] | Loss: 0.7068 | Train Acc: 72.72% | Test Acc: 71.89%\n",
            "  Epoch [6/10] | Loss: 0.6979 | Train Acc: 73.10% | Test Acc: 72.37%\n",
            "  Epoch [7/10] | Loss: 0.6905 | Train Acc: 73.46% | Test Acc: 72.44%\n",
            "  Epoch [8/10] | Loss: 0.6844 | Train Acc: 73.70% | Test Acc: 72.93%\n",
            "  Epoch [9/10] | Loss: 0.6792 | Train Acc: 73.13% | Test Acc: 72.31%\n",
            "  Epoch [10/10] | Loss: 0.6745 | Train Acc: 73.81% | Test Acc: 73.14%\n",
            "Final Test Acc with 5 features: 73.14%\n",
            "\n",
            "=== Using 8 features ===\n",
            "  Epoch [1/10] | Loss: 0.9301 | Train Acc: 72.46% | Test Acc: 72.05%\n",
            "  Epoch [2/10] | Loss: 0.6893 | Train Acc: 74.54% | Test Acc: 74.15%\n",
            "  Epoch [3/10] | Loss: 0.6492 | Train Acc: 75.43% | Test Acc: 75.14%\n",
            "  Epoch [4/10] | Loss: 0.6266 | Train Acc: 76.24% | Test Acc: 76.00%\n",
            "  Epoch [5/10] | Loss: 0.6113 | Train Acc: 76.62% | Test Acc: 76.39%\n",
            "  Epoch [6/10] | Loss: 0.5993 | Train Acc: 77.04% | Test Acc: 76.62%\n",
            "  Epoch [7/10] | Loss: 0.5896 | Train Acc: 77.41% | Test Acc: 76.75%\n",
            "  Epoch [8/10] | Loss: 0.5813 | Train Acc: 77.78% | Test Acc: 77.25%\n",
            "  Epoch [9/10] | Loss: 0.5749 | Train Acc: 77.93% | Test Acc: 77.28%\n",
            "  Epoch [10/10] | Loss: 0.5679 | Train Acc: 78.39% | Test Acc: 77.70%\n",
            "Final Test Acc with 8 features: 77.70%\n",
            "\n",
            "=== Using 20 features ===\n",
            "  Epoch [1/10] | Loss: 0.9970 | Train Acc: 75.98% | Test Acc: 75.20%\n",
            "  Epoch [2/10] | Loss: 0.6111 | Train Acc: 78.93% | Test Acc: 78.16%\n",
            "  Epoch [3/10] | Loss: 0.5502 | Train Acc: 80.54% | Test Acc: 79.71%\n",
            "  Epoch [4/10] | Loss: 0.5172 | Train Acc: 81.74% | Test Acc: 80.74%\n",
            "  Epoch [5/10] | Loss: 0.4949 | Train Acc: 82.27% | Test Acc: 81.41%\n",
            "  Epoch [6/10] | Loss: 0.4783 | Train Acc: 83.01% | Test Acc: 81.97%\n",
            "  Epoch [7/10] | Loss: 0.4647 | Train Acc: 83.41% | Test Acc: 82.31%\n",
            "  Epoch [8/10] | Loss: 0.4537 | Train Acc: 83.84% | Test Acc: 83.09%\n",
            "  Epoch [9/10] | Loss: 0.4450 | Train Acc: 83.99% | Test Acc: 83.02%\n",
            "  Epoch [10/10] | Loss: 0.4368 | Train Acc: 84.45% | Test Acc: 83.41%\n",
            "Final Test Acc with 20 features: 83.41%\n",
            "\n",
            "=== Using 50 features ===\n",
            "  Epoch [1/10] | Loss: 1.1895 | Train Acc: 75.09% | Test Acc: 74.37%\n",
            "  Epoch [2/10] | Loss: 0.6285 | Train Acc: 79.54% | Test Acc: 78.61%\n",
            "  Epoch [3/10] | Loss: 0.5377 | Train Acc: 81.41% | Test Acc: 80.03%\n",
            "  Epoch [4/10] | Loss: 0.4923 | Train Acc: 82.78% | Test Acc: 81.62%\n",
            "  Epoch [5/10] | Loss: 0.4652 | Train Acc: 83.45% | Test Acc: 82.45%\n",
            "  Epoch [6/10] | Loss: 0.4467 | Train Acc: 83.98% | Test Acc: 82.86%\n",
            "  Epoch [7/10] | Loss: 0.4327 | Train Acc: 84.68% | Test Acc: 83.51%\n",
            "  Epoch [8/10] | Loss: 0.4216 | Train Acc: 85.10% | Test Acc: 83.76%\n",
            "  Epoch [9/10] | Loss: 0.4121 | Train Acc: 85.48% | Test Acc: 84.17%\n",
            "  Epoch [10/10] | Loss: 0.4043 | Train Acc: 85.68% | Test Acc: 84.16%\n",
            "Final Test Acc with 50 features: 84.16%\n",
            "\n",
            "=== Using 100 features ===\n",
            "  Epoch [1/10] | Loss: 1.3288 | Train Acc: 73.70% | Test Acc: 73.03%\n",
            "  Epoch [2/10] | Loss: 0.6666 | Train Acc: 78.66% | Test Acc: 77.74%\n",
            "  Epoch [3/10] | Loss: 0.5519 | Train Acc: 81.59% | Test Acc: 80.61%\n",
            "  Epoch [4/10] | Loss: 0.4955 | Train Acc: 82.94% | Test Acc: 81.91%\n",
            "  Epoch [5/10] | Loss: 0.4621 | Train Acc: 83.82% | Test Acc: 82.55%\n",
            "  Epoch [6/10] | Loss: 0.4402 | Train Acc: 84.57% | Test Acc: 83.52%\n",
            "  Epoch [7/10] | Loss: 0.4232 | Train Acc: 85.22% | Test Acc: 83.98%\n",
            "  Epoch [8/10] | Loss: 0.4101 | Train Acc: 85.52% | Test Acc: 84.36%\n",
            "  Epoch [9/10] | Loss: 0.3987 | Train Acc: 85.91% | Test Acc: 84.68%\n",
            "  Epoch [10/10] | Loss: 0.3892 | Train Acc: 86.12% | Test Acc: 84.88%\n",
            "Final Test Acc with 100 features: 84.88%\n",
            "\n",
            "=== Using 200 features ===\n",
            "  Epoch [1/10] | Loss: 1.4530 | Train Acc: 73.02% | Test Acc: 72.26%\n",
            "  Epoch [2/10] | Loss: 0.6991 | Train Acc: 77.47% | Test Acc: 76.75%\n",
            "  Epoch [3/10] | Loss: 0.5731 | Train Acc: 80.68% | Test Acc: 79.29%\n",
            "  Epoch [4/10] | Loss: 0.5091 | Train Acc: 82.42% | Test Acc: 81.36%\n",
            "  Epoch [5/10] | Loss: 0.4705 | Train Acc: 83.78% | Test Acc: 82.52%\n",
            "  Epoch [6/10] | Loss: 0.4441 | Train Acc: 84.42% | Test Acc: 83.30%\n",
            "  Epoch [7/10] | Loss: 0.4248 | Train Acc: 85.23% | Test Acc: 83.97%\n",
            "  Epoch [8/10] | Loss: 0.4093 | Train Acc: 85.67% | Test Acc: 84.01%\n",
            "  Epoch [9/10] | Loss: 0.3966 | Train Acc: 86.03% | Test Acc: 84.57%\n",
            "  Epoch [10/10] | Loss: 0.3862 | Train Acc: 86.28% | Test Acc: 84.72%\n",
            "Final Test Acc with 200 features: 84.72%\n",
            "\n",
            "=== Using 400 features ===\n",
            "  Epoch [1/10] | Loss: 1.5341 | Train Acc: 70.46% | Test Acc: 69.70%\n",
            "  Epoch [2/10] | Loss: 0.7336 | Train Acc: 76.34% | Test Acc: 75.62%\n",
            "  Epoch [3/10] | Loss: 0.5931 | Train Acc: 79.97% | Test Acc: 78.89%\n",
            "  Epoch [4/10] | Loss: 0.5240 | Train Acc: 81.78% | Test Acc: 80.51%\n",
            "  Epoch [5/10] | Loss: 0.4805 | Train Acc: 83.31% | Test Acc: 82.08%\n",
            "  Epoch [6/10] | Loss: 0.4515 | Train Acc: 84.11% | Test Acc: 82.74%\n",
            "  Epoch [7/10] | Loss: 0.4303 | Train Acc: 85.06% | Test Acc: 83.71%\n",
            "  Epoch [8/10] | Loss: 0.4136 | Train Acc: 85.40% | Test Acc: 84.05%\n",
            "  Epoch [9/10] | Loss: 0.3999 | Train Acc: 85.92% | Test Acc: 84.43%\n",
            "  Epoch [10/10] | Loss: 0.3883 | Train Acc: 86.36% | Test Acc: 84.78%\n",
            "Final Test Acc with 400 features: 84.78%\n",
            "\n",
            "=== Using 784 features ===\n",
            "  Epoch [1/10] | Loss: 1.3882 | Train Acc: 69.20% | Test Acc: 67.87%\n",
            "  Epoch [2/10] | Loss: 0.7256 | Train Acc: 76.80% | Test Acc: 75.85%\n",
            "  Epoch [3/10] | Loss: 0.6012 | Train Acc: 80.62% | Test Acc: 79.40%\n",
            "  Epoch [4/10] | Loss: 0.5363 | Train Acc: 81.73% | Test Acc: 80.56%\n",
            "  Epoch [5/10] | Loss: 0.4998 | Train Acc: 83.19% | Test Acc: 82.26%\n",
            "  Epoch [6/10] | Loss: 0.4755 | Train Acc: 83.71% | Test Acc: 82.33%\n",
            "  Epoch [7/10] | Loss: 0.4579 | Train Acc: 84.20% | Test Acc: 83.01%\n",
            "  Epoch [8/10] | Loss: 0.4466 | Train Acc: 84.89% | Test Acc: 83.58%\n",
            "  Epoch [9/10] | Loss: 0.4342 | Train Acc: 82.44% | Test Acc: 81.30%\n",
            "  Epoch [10/10] | Loss: 0.4237 | Train Acc: 85.56% | Test Acc: 84.12%\n",
            "Final Test Acc with 784 features: 84.12%\n"
          ]
        },
        {
          "data": {
            "image/png": "[encoded data removed]",
            "text/plain": [
              "<Figure size 800x500 with 1 Axes>"
            ]
          },
          "metadata": {},
          "output_type": "display_data"
        }
      ],
      "source": [
        "#Your code\n",
        "\n",
        "feature_dims = [3, 5, 8, 20, 50, 100, 200, 400, 784]\n",
        "accuracies = []\n",
        "\n",
        "for k in feature_dims:\n",
        "    print(f\"\\n=== Using {k} features ===\")\n",
        "    if k < 784:\n",
        "        pca = PCA(n_components=k, random_state=42)\n",
        "        X_train_k = pca.fit_transform(train_data_flat)\n",
        "        X_test_k = pca.transform(test_data_flat)\n",
        "    else:\n",
        "        # k == 784 (use original data)\n",
        "        X_train_k = train_data_flat\n",
        "        X_test_k = test_data_flat\n",
        "\n",
        "    # Convert NumPy arrays -> PyTorch Tensors\n",
        "    X_train_k_torch = torch.from_numpy(X_train_k).float()\n",
        "    y_train_torch = torch.from_numpy(train_labels).long()\n",
        "    X_test_k_torch = torch.from_numpy(X_test_k).float()\n",
        "    y_test_torch = torch.from_numpy(test_labels).long()\n",
        "\n",
        "    # Create DataLoader for training set\n",
        "    train_dataset_k = torch.utils.data.TensorDataset(X_train_k_torch, y_train_torch)\n",
        "    train_dataloader_k = torch.utils.data.DataLoader(train_dataset_k, batch_size=64, shuffle=True)\n",
        "\n",
        "    # Create DataLoader for test set\n",
        "    test_dataset_k = torch.utils.data.TensorDataset(X_test_k_torch, y_test_torch)\n",
        "    test_dataloader_k = torch.utils.data.DataLoader(test_dataset_k, batch_size=64, shuffle=False)\n",
        "\n",
        "    # 2. Define Model\n",
        "    model = SimpleFCNN(input_dim=k).to(device)\n",
        "    criterion = nn.CrossEntropyLoss()\n",
        "    optimizer = optim.SGD(model.parameters(), lr=0.01)\n",
        "\n",
        "    # 3. Train Model\n",
        "    for epoch in range(10):\n",
        "        loss = train_one_epoch(model, train_dataloader_k, criterion, optimizer)\n",
        "        train_acc = evaluate(model, train_dataloader_k)\n",
        "        test_acc = evaluate(model, test_dataloader_k)\n",
        "        print(f\"  Epoch [{epoch+1}/{10}] | \"\n",
        "              f\"Loss: {loss:.4f} | \"\n",
        "              f\"Train Acc: {train_acc:.2f}% | \"\n",
        "              f\"Test Acc: {test_acc:.2f}%\")\n",
        "\n",
        "    # 4. test\n",
        "    final_test_acc = evaluate(model, test_dataloader_k)\n",
        "    accuracies.append(final_test_acc)\n",
        "    print(f\"Final Test Acc with {k} features: {final_test_acc:.2f}%\")\n",
        "\n",
        "plt.figure(figsize=(8, 5))\n",
        "plt.plot(feature_dims, accuracies, marker='o')\n",
        "plt.title(\"FashionMNIST: NN Accuracy vs Number of PCA Features\")\n",
        "plt.xlabel(\"Number of Features (PCA)\")\n",
        "plt.ylabel(\"Test Accuracy (%)\")\n",
        "plt.grid(True)\n",
        "\n",
        "\n",
        "#Your code"
      ]
    },
    {
      "cell_type": "markdown",
      "metadata": {},
      "source": [
        "### Now, what is the minimum number of features needed to achieve accuracy higher than 80 percent?\n",
        "\n",
        "as we see for first 20 components we achieve this accuracy"
      ]
    },
    {
      "cell_type": "markdown",
      "metadata": {},
      "source": [
        "### Could you predict this number according to the explained vaiance plot? why?\n",
        "\n",
        "this plot somehow shows how much information is stored in first k components as a ration of sum of first k eigenvalues to total sum"
      ]
    },
    {
      "cell_type": "markdown",
      "metadata": {},
      "source": []
    }
  ],
  "metadata": {
    "accelerator": "GPU",
    "colab": {
      "gpuType": "T4",
      "provenance": []
    },
    "kernelspec": {
      "display_name": "qenv",
      "language": "python",
      "name": "qenv"
    },
    "language_info": {
      "codemirror_mode": {
        "name": "ipython",
        "version": 3
      },
      "file_extension": ".py",
      "mimetype": "text/x-python",
      "name": "python",
      "nbconvert_exporter": "python",
      "pygments_lexer": "ipython3",
      "version": "3.10.6"
    }
  },
  "nbformat": 4,
  "nbformat_minor": 0
}
